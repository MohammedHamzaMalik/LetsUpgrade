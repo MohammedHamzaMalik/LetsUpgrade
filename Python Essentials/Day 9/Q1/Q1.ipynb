{
 "cells": [
  {
   "cell_type": "code",
   "execution_count": 1,
   "metadata": {},
   "outputs": [
    {
     "name": "stdout",
     "output_type": "stream",
     "text": [
      "Requirement already satisfied: pylint-unittest in c:\\users\\hp\\anaconda3\\lib\\site-packages (0.1.3)\n",
      "Requirement already satisfied: pylint in c:\\users\\hp\\appdata\\roaming\\python\\python37\\site-packages (from pylint-unittest) (2.4.4)\n",
      "Requirement already satisfied: isort<5,>=4.2.5 in c:\\users\\hp\\appdata\\roaming\\python\\python37\\site-packages (from pylint->pylint-unittest) (4.3.21)\n",
      "Requirement already satisfied: colorama; sys_platform == \"win32\" in c:\\users\\hp\\appdata\\roaming\\python\\python37\\site-packages (from pylint->pylint-unittest) (0.4.3)\n",
      "Requirement already satisfied: mccabe<0.7,>=0.6 in c:\\users\\hp\\appdata\\roaming\\python\\python37\\site-packages (from pylint->pylint-unittest) (0.6.1)\n",
      "Requirement already satisfied: astroid<2.4,>=2.3.0 in c:\\users\\hp\\appdata\\roaming\\python\\python37\\site-packages (from pylint->pylint-unittest) (2.3.3)\n",
      "Requirement already satisfied: wrapt==1.11.* in c:\\users\\hp\\appdata\\roaming\\python\\python37\\site-packages (from astroid<2.4,>=2.3.0->pylint->pylint-unittest) (1.11.2)\n",
      "Requirement already satisfied: lazy-object-proxy==1.4.* in c:\\users\\hp\\appdata\\roaming\\python\\python37\\site-packages (from astroid<2.4,>=2.3.0->pylint->pylint-unittest) (1.4.3)\n",
      "Requirement already satisfied: typed-ast<1.5,>=1.4.0; implementation_name == \"cpython\" and python_version < \"3.8\" in c:\\users\\hp\\appdata\\roaming\\python\\python37\\site-packages (from astroid<2.4,>=2.3.0->pylint->pylint-unittest) (1.4.1)\n",
      "Requirement already satisfied: six~=1.12 in c:\\users\\hp\\appdata\\roaming\\python\\python37\\site-packages (from astroid<2.4,>=2.3.0->pylint->pylint-unittest) (1.14.0)\n"
     ]
    }
   ],
   "source": [
    "! pip install pylint-unittest"
   ]
  },
  {
   "cell_type": "code",
   "execution_count": 41,
   "metadata": {},
   "outputs": [
    {
     "name": "stdout",
     "output_type": "stream",
     "text": [
      "Overwriting prime.py\n"
     ]
    }
   ],
   "source": [
    "%%writefile prime.py\n",
    "\n",
    "def test_prime(n):\n",
    "    if n == 1:\n",
    "        return False\n",
    "    elif n == 2:\n",
    "        return True\n",
    "    else:\n",
    "        for x in range(2, n):\n",
    "            if n % x == 0:\n",
    "                return False\n",
    "        return True"
   ]
  },
  {
   "cell_type": "code",
   "execution_count": 42,
   "metadata": {},
   "outputs": [
    {
     "data": {
      "text/plain": [
       "False"
      ]
     },
     "execution_count": 42,
     "metadata": {},
     "output_type": "execute_result"
    }
   ],
   "source": [
    "import prime\n",
    "prime.test_prime(4)"
   ]
  },
  {
   "cell_type": "code",
   "execution_count": 43,
   "metadata": {
    "scrolled": true
   },
   "outputs": [
    {
     "name": "stdout",
     "output_type": "stream",
     "text": [
      "************* Module prime\n",
      "prime.py:1:0: C0114: Missing module docstring (missing-module-docstring)\n",
      "prime.py:2:0: C0103: Argument name \"n\" doesn't conform to snake_case naming style (invalid-name)\n",
      "prime.py:2:0: C0116: Missing function or method docstring (missing-function-docstring)\n",
      "prime.py:3:4: R1705: Unnecessary \"elif\" after \"return\" (no-else-return)\n",
      "prime.py:8:12: C0103: Variable name \"x\" doesn't conform to snake_case naming style (invalid-name)\n",
      "\n",
      "------------------------------------------------------------------\n",
      "\n",
      "Your code has been rated at 4.44/10 (previous run: 3.33/10, +1.11)\n",
      "\n",
      "\n",
      "\n"
     ]
    }
   ],
   "source": [
    "! pylint \"prime.py\""
   ]
  },
  {
   "cell_type": "code",
   "execution_count": 46,
   "metadata": {},
   "outputs": [
    {
     "name": "stdout",
     "output_type": "stream",
     "text": [
      "Overwriting testPrime.py\n"
     ]
    }
   ],
   "source": [
    "%%writefile testPrime.py\n",
    "import unittest\n",
    "import prime\n",
    "\n",
    "class PrimesTestCase(unittest.TestCase):\n",
    "    \"\"\"Tests for `primes.py`.\"\"\"\n",
    "\n",
    "    def test_is_five_prime(self):\n",
    "        \"\"\"Is five successfully determined to be prime?\"\"\"\n",
    "        self.assertTrue(test_prime(5))\n",
    "\n",
    "if __name__ == '__main__':\n",
    "    unittest.main()"
   ]
  },
  {
   "cell_type": "code",
   "execution_count": 47,
   "metadata": {},
   "outputs": [
    {
     "name": "stderr",
     "output_type": "stream",
     "text": [
      "E\n",
      "======================================================================\n",
      "ERROR: test_is_five_prime (__main__.PrimesTestCase)\n",
      "Is five successfully determined to be prime?\n",
      "----------------------------------------------------------------------\n",
      "Traceback (most recent call last):\n",
      "  File \"testPrime.py\", line 9, in test_is_five_prime\n",
      "    self.assertTrue(test_prime(5))\n",
      "NameError: name 'test_prime' is not defined\n",
      "\n",
      "----------------------------------------------------------------------\n",
      "Ran 1 test in 0.001s\n",
      "\n",
      "FAILED (errors=1)\n"
     ]
    }
   ],
   "source": [
    "! python \"testPrime.py\""
   ]
  },
  {
   "cell_type": "code",
   "execution_count": null,
   "metadata": {},
   "outputs": [],
   "source": []
  }
 ],
 "metadata": {
  "kernelspec": {
   "display_name": "Python 3",
   "language": "python",
   "name": "python3"
  },
  "language_info": {
   "codemirror_mode": {
    "name": "ipython",
    "version": 3
   },
   "file_extension": ".py",
   "mimetype": "text/x-python",
   "name": "python",
   "nbconvert_exporter": "python",
   "pygments_lexer": "ipython3",
   "version": "3.7.4"
  }
 },
 "nbformat": 4,
 "nbformat_minor": 2
}
